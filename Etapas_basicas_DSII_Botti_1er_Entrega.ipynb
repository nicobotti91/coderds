{
  "nbformat": 4,
  "nbformat_minor": 0,
  "metadata": {
    "colab": {
      "provenance": [],
      "include_colab_link": true
    },
    "kernelspec": {
      "name": "python3",
      "display_name": "Python 3"
    },
    "language_info": {
      "name": "python"
    }
  },
  "cells": [
    {
      "cell_type": "markdown",
      "metadata": {
        "id": "view-in-github",
        "colab_type": "text"
      },
      "source": [
        "<a href=\"https://colab.research.google.com/github/nicobotti91/coderds/blob/main/Etapas_basicas_DSII_Botti_1er_Entrega.ipynb\" target=\"_parent\"><img src=\"https://colab.research.google.com/assets/colab-badge.svg\" alt=\"Open In Colab\"/></a>"
      ]
    },
    {
      "cell_type": "markdown",
      "source": [
        "# **Presentación del proyecto**"
      ],
      "metadata": {
        "id": "xzB4gwuwanKZ"
      }
    },
    {
      "cell_type": "markdown",
      "source": [
        "**Abstracto con Motivación y Audiencia**"
      ],
      "metadata": {
        "id": "-LhnW5JudMDZ"
      }
    },
    {
      "cell_type": "markdown",
      "source": [
        "**Contexto Comercial y Analítico**"
      ],
      "metadata": {
        "id": "9mUn43cZdP_t"
      }
    },
    {
      "cell_type": "markdown",
      "source": [
        "**Preguntas/Hipótesis a Resolver mediante el Análisis de Datos**"
      ],
      "metadata": {
        "id": "3KBMDl_bdkqX"
      }
    },
    {
      "cell_type": "markdown",
      "source": [
        "**Objetivo**"
      ],
      "metadata": {
        "id": "06Xa-Tilds7o"
      }
    },
    {
      "cell_type": "markdown",
      "source": [
        "# **Lectura de datos**"
      ],
      "metadata": {
        "id": "8wLoKhWWaqNa"
      }
    },
    {
      "cell_type": "markdown",
      "source": [
        "**Librerias necesarias para el analisis de datos**"
      ],
      "metadata": {
        "id": "0Pe1ER-7cSiB"
      }
    },
    {
      "cell_type": "code",
      "source": [],
      "metadata": {
        "id": "FshYZ8_0cR0U"
      },
      "execution_count": null,
      "outputs": []
    },
    {
      "cell_type": "markdown",
      "source": [
        "**Configuración del entorno de Python en Google Colab**"
      ],
      "metadata": {
        "id": "iS25rDiNcWoo"
      }
    },
    {
      "cell_type": "code",
      "source": [],
      "metadata": {
        "id": "WI7r7GcPaxfv"
      },
      "execution_count": null,
      "outputs": []
    },
    {
      "cell_type": "markdown",
      "source": [
        "**Lectura del dataset**"
      ],
      "metadata": {
        "id": "M58MXujYccl4"
      }
    },
    {
      "cell_type": "code",
      "source": [],
      "metadata": {
        "id": "lTis7QCwceYm"
      },
      "execution_count": null,
      "outputs": []
    },
    {
      "cell_type": "markdown",
      "source": [
        "**Análisis inicial del dataset**"
      ],
      "metadata": {
        "id": "iKtGzziecpLH"
      }
    },
    {
      "cell_type": "code",
      "source": [],
      "metadata": {
        "id": "hh1xD8TFc1EJ"
      },
      "execution_count": null,
      "outputs": []
    },
    {
      "cell_type": "markdown",
      "source": [
        "**Descripción de variables**"
      ],
      "metadata": {
        "id": "Ip6Q4VKwcmjH"
      }
    },
    {
      "cell_type": "code",
      "source": [],
      "metadata": {
        "id": "WlyARXoccmJA"
      },
      "execution_count": null,
      "outputs": []
    },
    {
      "cell_type": "markdown",
      "source": [
        "# **Data Wrangling - Limpieza y transformación de datos**"
      ],
      "metadata": {
        "id": "s67AKL12xavC"
      }
    },
    {
      "cell_type": "markdown",
      "source": [
        "**Valores duplicados**"
      ],
      "metadata": {
        "id": "Ck2Oovr6xgQi"
      }
    },
    {
      "cell_type": "code",
      "source": [],
      "metadata": {
        "id": "rt_NRKaBxghq"
      },
      "execution_count": null,
      "outputs": []
    },
    {
      "cell_type": "markdown",
      "source": [
        "**Valores nulos**"
      ],
      "metadata": {
        "id": "ae_UXIASxgxa"
      }
    },
    {
      "cell_type": "code",
      "source": [],
      "metadata": {
        "id": "keuycrK8xhNa"
      },
      "execution_count": null,
      "outputs": []
    },
    {
      "cell_type": "markdown",
      "source": [
        "**Tratamiento de valores outliers**"
      ],
      "metadata": {
        "id": "A1hJkzS4xhdi"
      }
    },
    {
      "cell_type": "code",
      "source": [],
      "metadata": {
        "id": "1BECuD5Vxtg6"
      },
      "execution_count": null,
      "outputs": []
    },
    {
      "cell_type": "markdown",
      "source": [
        "**Otras transformaciones, normalización, fechas**"
      ],
      "metadata": {
        "id": "CbSRhTXIxyzz"
      }
    },
    {
      "cell_type": "markdown",
      "source": [
        "# **Análisis Exploratorio de datos**"
      ],
      "metadata": {
        "id": "xyjs1qjza7Rf"
      }
    },
    {
      "cell_type": "markdown",
      "source": [
        "**Análisis univariado**"
      ],
      "metadata": {
        "id": "wLFe1k_UbgVx"
      }
    },
    {
      "cell_type": "code",
      "source": [],
      "metadata": {
        "id": "O1lqMImVbt1w"
      },
      "execution_count": null,
      "outputs": []
    },
    {
      "cell_type": "markdown",
      "source": [
        "**Análisis bivariado**"
      ],
      "metadata": {
        "id": "fn8NOZ6CbmhS"
      }
    },
    {
      "cell_type": "code",
      "source": [],
      "metadata": {
        "id": "F1MaztRFbtcR"
      },
      "execution_count": null,
      "outputs": []
    },
    {
      "cell_type": "markdown",
      "source": [
        "**Análisis multivariado**"
      ],
      "metadata": {
        "id": "nx3h1AVKbmYv"
      }
    },
    {
      "cell_type": "code",
      "source": [],
      "metadata": {
        "id": "W7XGF7-1bHYe"
      },
      "execution_count": null,
      "outputs": []
    },
    {
      "cell_type": "markdown",
      "source": [
        "**Conclusiones del EDA**"
      ],
      "metadata": {
        "id": "7y65fz63emSb"
      }
    }
  ]
}